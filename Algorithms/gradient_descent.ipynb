{
  "nbformat": 4,
  "nbformat_minor": 0,
  "metadata": {
    "colab": {
      "provenance": [],
      "toc_visible": true,
      "authorship_tag": "ABX9TyN0J7iSxUlJmhZEsLIfMGHK",
      "include_colab_link": true
    },
    "kernelspec": {
      "name": "python3",
      "display_name": "Python 3"
    },
    "language_info": {
      "name": "python"
    }
  },
  "cells": [
    {
      "cell_type": "markdown",
      "metadata": {
        "id": "view-in-github",
        "colab_type": "text"
      },
      "source": [
        "<a href=\"https://colab.research.google.com/github/Saksham412/Machine-Learning/blob/main/Algorithms/gradient_descent.ipynb\" target=\"_parent\"><img src=\"https://colab.research.google.com/assets/colab-badge.svg\" alt=\"Open In Colab\"/></a>"
      ]
    },
    {
      "cell_type": "markdown",
      "source": [
        "# Gradient descent example"
      ],
      "metadata": {
        "id": "FFp6Wyp1VCEk"
      }
    },
    {
      "cell_type": "code",
      "source": [
        "import numpy as np\n",
        "import pandas as pd\n",
        "import matplotlib.pyplot as plt"
      ],
      "metadata": {
        "id": "Z529mrkZElXP"
      },
      "execution_count": 62,
      "outputs": []
    },
    {
      "cell_type": "code",
      "source": [
        "df = np.array([[1.6, 60], [1.75, 75], [1.80,80]])"
      ],
      "metadata": {
        "id": "LS4b7pcl-aPc"
      },
      "execution_count": 63,
      "outputs": []
    },
    {
      "cell_type": "code",
      "source": [
        "slope = 0\n",
        "intercept = 0\n",
        "learning_rate = 0.1"
      ],
      "metadata": {
        "id": "HqZGSQ0wAu10"
      },
      "execution_count": 96,
      "outputs": []
    },
    {
      "cell_type": "code",
      "source": [
        "w = df[:,1]\n",
        "h = df[:,0]"
      ],
      "metadata": {
        "id": "2xGqSOEkA7SE"
      },
      "execution_count": 97,
      "outputs": []
    },
    {
      "cell_type": "code",
      "source": [
        "w"
      ],
      "metadata": {
        "colab": {
          "base_uri": "https://localhost:8080/"
        },
        "id": "sEYAiFUjBE_K",
        "outputId": "9246b984-5503-42f2-a725-d412f1ef7674"
      },
      "execution_count": 98,
      "outputs": [
        {
          "output_type": "execute_result",
          "data": {
            "text/plain": [
              "array([60., 75., 80.])"
            ]
          },
          "metadata": {},
          "execution_count": 98
        }
      ]
    },
    {
      "cell_type": "code",
      "source": [
        "h"
      ],
      "metadata": {
        "colab": {
          "base_uri": "https://localhost:8080/"
        },
        "id": "-GzvyHMwEzjp",
        "outputId": "dcbb8ab7-a5e6-45f3-88a9-3d94c4ff204b"
      },
      "execution_count": 99,
      "outputs": [
        {
          "output_type": "execute_result",
          "data": {
            "text/plain": [
              "array([1.6 , 1.75, 1.8 ])"
            ]
          },
          "metadata": {},
          "execution_count": 99
        }
      ]
    },
    {
      "cell_type": "code",
      "source": [
        "learning_rate = 0.01"
      ],
      "metadata": {
        "id": "zA9slmK1F6Nq"
      },
      "execution_count": 130,
      "outputs": []
    },
    {
      "cell_type": "code",
      "source": [
        "loss_1 = (60 - (slope * 1.60 + intercept))**2\n",
        "loss_2 = (75 - (slope * 1.75 + intercept))**2\n",
        "loss_3 = (80 - (slope * 1.80 + intercept))**2\n",
        "\n",
        "loss = loss_1 + loss_2 + loss_3\n",
        "print(loss)\n",
        "\n",
        "der_intercept = (2 * (60 - (slope * 1.60 + intercept)) * (-1)) + (2 * (75 - (slope * 1.75 + intercept)) * (-1)) + (2 * (80 - (slope * 1.80 + intercept)) * (-1))\n",
        "der_slope = (2 * (60 - (slope * 1.60 + intercept)) * (-1.60)) + (2 * (75 - (slope * 1.75 + intercept)) * (-1.75)) + (2 * (80 - (slope * 1.80 + intercept)) * (-1.80))\n",
        "\n",
        "der_intercept = der_intercept / 3\n",
        "der_slope = der_slope / 3"
      ],
      "metadata": {
        "colab": {
          "base_uri": "https://localhost:8080/"
        },
        "id": "E5EPqquEBF_u",
        "outputId": "05aabf54-3f5a-44f1-c9a2-bc0bc52bb9a9"
      },
      "execution_count": 131,
      "outputs": [
        {
          "output_type": "stream",
          "name": "stdout",
          "text": [
            "102.01465625631036\n"
          ]
        }
      ]
    },
    {
      "cell_type": "code",
      "source": [
        "intercept = intercept - (learning_rate * der_intercept)\n",
        "slope = slope - (learning_rate * der_slope)"
      ],
      "metadata": {
        "id": "od7DMgx-DuXa"
      },
      "execution_count": 132,
      "outputs": []
    },
    {
      "cell_type": "code",
      "source": [
        "intercept"
      ],
      "metadata": {
        "colab": {
          "base_uri": "https://localhost:8080/"
        },
        "id": "tTtXC40OD_GQ",
        "outputId": "2638f896-b6f4-4a6e-bf8c-3c0eb49883d8"
      },
      "execution_count": 133,
      "outputs": [
        {
          "output_type": "execute_result",
          "data": {
            "text/plain": [
              "17.922712667277136"
            ]
          },
          "metadata": {},
          "execution_count": 133
        }
      ]
    },
    {
      "cell_type": "code",
      "source": [
        "slope"
      ],
      "metadata": {
        "colab": {
          "base_uri": "https://localhost:8080/"
        },
        "id": "8GAzKhB8EEEy",
        "outputId": "82c330ab-7ff8-4e74-e18d-1f9e4985670d"
      },
      "execution_count": 134,
      "outputs": [
        {
          "output_type": "execute_result",
          "data": {
            "text/plain": [
              "31.42942009722444"
            ]
          },
          "metadata": {},
          "execution_count": 134
        }
      ]
    },
    {
      "cell_type": "code",
      "source": [
        "# Generate predictions for the best-fit line\n",
        "y_pred = slope * h + intercept\n",
        "\n",
        "# Plot the data points\n",
        "plt.scatter(h, w, color='blue', label='Data Points')\n",
        "\n",
        "# Plot the best-fit line\n",
        "plt.plot(h, y_pred, color='red', label='Best-Fit Line')\n",
        "\n",
        "# Add labels and title\n",
        "plt.xlabel('Height (m)')\n",
        "plt.ylabel('Weight (kg)')\n",
        "plt.title('Linear Regression: Best-Fit Line')\n",
        "\n",
        "# Add a legend\n",
        "plt.legend()\n",
        "\n",
        "# Show the plot\n",
        "plt.show()"
      ],
      "metadata": {
        "colab": {
          "base_uri": "https://localhost:8080/",
          "height": 472
        },
        "id": "8XS78PgREF_I",
        "outputId": "09983d54-509e-4b6a-ed89-559151777835"
      },
      "execution_count": 135,
      "outputs": [
        {
          "output_type": "display_data",
          "data": {
            "text/plain": [
              "<Figure size 640x480 with 1 Axes>"
            ],
            "image/png": "[encoded data removed]"
          },
          "metadata": {}
        }
      ]
    },
    {
      "cell_type": "markdown",
      "source": [
        "# Stochasitc gradient descent"
      ],
      "metadata": {
        "id": "tuTnV1Z0VK6p"
      }
    },
    {
      "cell_type": "markdown",
      "source": [
        "- Simialar to grdient descent except it takes one sample from the data for each step or small subset or mini-batch for each step"
      ],
      "metadata": {
        "id": "a8yAKzVdVSU4"
      }
    }
  ]
}